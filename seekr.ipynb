{
 "cells": [
  {
   "cell_type": "markdown",
   "metadata": {},
   "source": [
    "Import packages"
   ]
  },
  {
   "cell_type": "code",
   "execution_count": 1,
   "metadata": {},
   "outputs": [],
   "source": [
    "import numpy as np\n",
    "import pandas as pd\n",
    "from seekr.kmer_counts import BasicCounter\n",
    "from seekr.pearson import pearson\n",
    "from seekr.fasta_reader import Reader"
   ]
  },
  {
   "cell_type": "markdown",
   "metadata": {},
   "source": [
    "Import the normalised late version of human all GENCODE, the Paroedura picta (Madagascar ground gecko) and the sequences of lncRNAs of interest (MEG3, EVX1AS, NEAT1)."
   ]
  },
  {
   "cell_type": "code",
   "execution_count": 2,
   "metadata": {},
   "outputs": [],
   "source": [
    "gencode = 'v41_all.fa'\n",
    "MEG3 = 'MEG3.fa'\n",
    "EVX1AS = 'EVX1AS.fa'\n",
    "NEAT1 = 'NEAT1.fa'\n",
    "lncRNAs = 'Paroedura_picta_denovo_transcriptome.fasta'"
   ]
  },
  {
   "cell_type": "code",
   "execution_count": 3,
   "metadata": {},
   "outputs": [],
   "source": [
    "# Make sure each lncRNA in other_lncs.fa has a unique name\n",
    "headers = Reader(lncRNAs).get_headers()\n",
    "names = [h.strip('>') + f'_{i}' for i, h in enumerate(headers)]"
   ]
  },
  {
   "cell_type": "markdown",
   "metadata": {},
   "source": [
    "The pipeline described in https://github.com/CalabreseLab/seekr is carried out for 3 and 4 k, as well as for the 3 human lncRNAs.Results are stored locally."
   ]
  },
  {
   "cell_type": "code",
   "execution_count": 4,
   "metadata": {},
   "outputs": [
    {
     "data": {
      "application/vnd.jupyter.widget-view+json": {
       "model_id": "9ea24960b30d4b99a98eba494b1ec6a4",
       "version_major": 2,
       "version_minor": 0
      },
      "text/plain": [
       "  0%|          | 0/251236 [00:00<?, ?it/s]"
      ]
     },
     "metadata": {},
     "output_type": "display_data"
    },
    {
     "data": {
      "application/vnd.jupyter.widget-view+json": {
       "model_id": "15949896db2c40f09eb5e7e5af61d995",
       "version_major": 2,
       "version_minor": 0
      },
      "text/plain": [
       "  0%|          | 0/1 [00:00<?, ?it/s]"
      ]
     },
     "metadata": {},
     "output_type": "display_data"
    },
    {
     "data": {
      "application/vnd.jupyter.widget-view+json": {
       "model_id": "07132a81f09d40a693761e97da434ad7",
       "version_major": 2,
       "version_minor": 0
      },
      "text/plain": [
       "  0%|          | 0/996336 [00:00<?, ?it/s]"
      ]
     },
     "metadata": {},
     "output_type": "display_data"
    },
    {
     "data": {
      "application/vnd.jupyter.widget-view+json": {
       "model_id": "f5c6f3ace9d941fb8abb8f883757c218",
       "version_major": 2,
       "version_minor": 0
      },
      "text/plain": [
       "  0%|          | 0/251236 [00:00<?, ?it/s]"
      ]
     },
     "metadata": {},
     "output_type": "display_data"
    },
    {
     "data": {
      "application/vnd.jupyter.widget-view+json": {
       "model_id": "7ef9766891b642bc849ee8b17c71cd79",
       "version_major": 2,
       "version_minor": 0
      },
      "text/plain": [
       "  0%|          | 0/1 [00:00<?, ?it/s]"
      ]
     },
     "metadata": {},
     "output_type": "display_data"
    },
    {
     "data": {
      "application/vnd.jupyter.widget-view+json": {
       "model_id": "3913965349fe44a7aa9d054625d1038f",
       "version_major": 2,
       "version_minor": 0
      },
      "text/plain": [
       "  0%|          | 0/996336 [00:00<?, ?it/s]"
      ]
     },
     "metadata": {},
     "output_type": "display_data"
    }
   ],
   "source": [
    "for k in range(3, 5):\n",
    "    # Make normalization vectors\n",
    "    gencode_counter = BasicCounter(gencode, k=k)\n",
    "    gencode_counter.get_counts()\n",
    "    mean_path = f'mean_{k}mers.npy'\n",
    "    std_path = f'std_{k}mers.npy'\n",
    "    np.save(mean_path, gencode_counter.mean)\n",
    "    np.save(std_path, gencode_counter.std)\n",
    "    # Count *k*-mers\n",
    "    MEG3_counter = BasicCounter(MEG3,\n",
    "                                outfile=f'{k}mers_MEG3.npy',\n",
    "                                mean=mean_path,\n",
    "                                std=std_path,\n",
    "                                k=k)\n",
    "    lncs_counter = BasicCounter(lncRNAs,\n",
    "                                outfile=f'{k}mers_lncs.npy',\n",
    "                                mean=mean_path,\n",
    "                                std=std_path,\n",
    "                                k=k)\n",
    "    MEG3_counter.make_count_file(names=['MEG3'])\n",
    "    lncs_counter.make_count_file(names=names)\n",
    "  \n",
    "    # Find similarities\n",
    "    sim = pearson(MEG3_counter.counts,\n",
    "                  lncs_counter.counts,\n",
    "                  outfile=f'MEG3_vs_lncs_{k}mers.npy')\n",
    "    # Save labeled .csv file of similarities.\n",
    "    sim_df = pd.DataFrame(sim, ['MEG3'], names)\n",
    "    sim_df.to_csv(f'MEG3_vs_lncs_{k}mers.csv')\n",
    "    sim_df_transpose = sim_df.transpose()\n",
    "    sim_df_transpose = sim_df_transpose.sort_values(by=['MEG3'], ascending=False)\n",
    "    sim_df_t_head = sim_df_transpose.head(1000)\n",
    "    sim_df_t_head.to_csv(f'MEG3_vs_lncs_{k}mers_head.csv')"
   ]
  },
  {
   "cell_type": "code",
   "execution_count": 5,
   "metadata": {},
   "outputs": [
    {
     "data": {
      "application/vnd.jupyter.widget-view+json": {
       "model_id": "e9b2505ed12f44ba9412074547b7da23",
       "version_major": 2,
       "version_minor": 0
      },
      "text/plain": [
       "  0%|          | 0/251236 [00:00<?, ?it/s]"
      ]
     },
     "metadata": {},
     "output_type": "display_data"
    },
    {
     "data": {
      "application/vnd.jupyter.widget-view+json": {
       "model_id": "c6a5179a44fe4a10add7b285d8d22ff1",
       "version_major": 2,
       "version_minor": 0
      },
      "text/plain": [
       "  0%|          | 0/1 [00:00<?, ?it/s]"
      ]
     },
     "metadata": {},
     "output_type": "display_data"
    },
    {
     "data": {
      "application/vnd.jupyter.widget-view+json": {
       "model_id": "bf3a5a10616d46ed8e5d829b6a2b8bae",
       "version_major": 2,
       "version_minor": 0
      },
      "text/plain": [
       "  0%|          | 0/996336 [00:00<?, ?it/s]"
      ]
     },
     "metadata": {},
     "output_type": "display_data"
    },
    {
     "data": {
      "application/vnd.jupyter.widget-view+json": {
       "model_id": "7755a1e23fe14b1a8b0f0d5cda041a7a",
       "version_major": 2,
       "version_minor": 0
      },
      "text/plain": [
       "  0%|          | 0/251236 [00:00<?, ?it/s]"
      ]
     },
     "metadata": {},
     "output_type": "display_data"
    },
    {
     "data": {
      "application/vnd.jupyter.widget-view+json": {
       "model_id": "ea793651f6ab47c7aa1b08e93e4532f4",
       "version_major": 2,
       "version_minor": 0
      },
      "text/plain": [
       "  0%|          | 0/1 [00:00<?, ?it/s]"
      ]
     },
     "metadata": {},
     "output_type": "display_data"
    },
    {
     "data": {
      "application/vnd.jupyter.widget-view+json": {
       "model_id": "5ed0a13ee14043698d0030963f19d9af",
       "version_major": 2,
       "version_minor": 0
      },
      "text/plain": [
       "  0%|          | 0/996336 [00:00<?, ?it/s]"
      ]
     },
     "metadata": {},
     "output_type": "display_data"
    }
   ],
   "source": [
    "for k in range(3, 5):\n",
    "    # Make normalization vectors\n",
    "    gencode_counter = BasicCounter(gencode, k=k)\n",
    "    gencode_counter.get_counts()\n",
    "    mean_path = f'mean_{k}mers.npy'\n",
    "    std_path = f'std_{k}mers.npy'\n",
    "    np.save(mean_path, gencode_counter.mean)\n",
    "    np.save(std_path, gencode_counter.std)\n",
    "    # Count *k*-mers\n",
    "    NEAT1_counter = BasicCounter(NEAT1,\n",
    "                                outfile=f'{k}mers_NEAT1.npy',\n",
    "                                mean=mean_path,\n",
    "                                std=std_path,\n",
    "                                k=k)\n",
    "    lncs_counter = BasicCounter(lncRNAs,\n",
    "                                outfile=f'{k}mers_lncs.npy',\n",
    "                                mean=mean_path,\n",
    "                                std=std_path,\n",
    "                                k=k)\n",
    "    NEAT1_counter.make_count_file(names=['NEAT1'])\n",
    "    lncs_counter.make_count_file(names=names)\n",
    "  \n",
    "    # Find similarities\n",
    "    sim = pearson(NEAT1_counter.counts,\n",
    "                  lncs_counter.counts,\n",
    "                  outfile=f'NEAT1_vs_lncs_{k}mers.npy')\n",
    "    # Save labeled .csv file of similarities.\n",
    "    sim_df = pd.DataFrame(sim, ['NEAT1'], names)\n",
    "    sim_df.to_csv(f'NEAT1_vs_lncs_{k}mers.csv')\n",
    "    sim_df_transpose = sim_df.transpose()\n",
    "    sim_df_transpose = sim_df_transpose.sort_values(by=['NEAT1'], ascending=False)\n",
    "    sim_df_t_head = sim_df_transpose.head(1000)\n",
    "    sim_df_t_head.to_csv(f'NEAT1_vs_lncs_{k}mers_head.csv')"
   ]
  },
  {
   "cell_type": "code",
   "execution_count": 6,
   "metadata": {},
   "outputs": [
    {
     "data": {
      "application/vnd.jupyter.widget-view+json": {
       "model_id": "463991b4fcfc4d6d87b3d357423e31e0",
       "version_major": 2,
       "version_minor": 0
      },
      "text/plain": [
       "  0%|          | 0/251236 [00:00<?, ?it/s]"
      ]
     },
     "metadata": {},
     "output_type": "display_data"
    },
    {
     "data": {
      "application/vnd.jupyter.widget-view+json": {
       "model_id": "1a0b0af4b57e4899b4310d616e9b6c52",
       "version_major": 2,
       "version_minor": 0
      },
      "text/plain": [
       "  0%|          | 0/1 [00:00<?, ?it/s]"
      ]
     },
     "metadata": {},
     "output_type": "display_data"
    },
    {
     "data": {
      "application/vnd.jupyter.widget-view+json": {
       "model_id": "473b6bc4aa7a4352be09ced072ac212a",
       "version_major": 2,
       "version_minor": 0
      },
      "text/plain": [
       "  0%|          | 0/996336 [00:00<?, ?it/s]"
      ]
     },
     "metadata": {},
     "output_type": "display_data"
    },
    {
     "data": {
      "application/vnd.jupyter.widget-view+json": {
       "model_id": "b8540788bd284002ba171688790c419c",
       "version_major": 2,
       "version_minor": 0
      },
      "text/plain": [
       "  0%|          | 0/251236 [00:00<?, ?it/s]"
      ]
     },
     "metadata": {},
     "output_type": "display_data"
    },
    {
     "data": {
      "application/vnd.jupyter.widget-view+json": {
       "model_id": "e622428a995748258c98e32f2a2cc53a",
       "version_major": 2,
       "version_minor": 0
      },
      "text/plain": [
       "  0%|          | 0/1 [00:00<?, ?it/s]"
      ]
     },
     "metadata": {},
     "output_type": "display_data"
    },
    {
     "data": {
      "application/vnd.jupyter.widget-view+json": {
       "model_id": "f25c9c75380047dd92f73de4dc776d7b",
       "version_major": 2,
       "version_minor": 0
      },
      "text/plain": [
       "  0%|          | 0/996336 [00:00<?, ?it/s]"
      ]
     },
     "metadata": {},
     "output_type": "display_data"
    }
   ],
   "source": [
    "for k in range(3, 5):\n",
    "    # Make normalization vectors\n",
    "    gencode_counter = BasicCounter(gencode, k=k)\n",
    "    gencode_counter.get_counts()\n",
    "    mean_path = f'mean_{k}mers.npy'\n",
    "    std_path = f'std_{k}mers.npy'\n",
    "    np.save(mean_path, gencode_counter.mean)\n",
    "    np.save(std_path, gencode_counter.std)\n",
    "    # Count *k*-mers\n",
    "    EVX1AS_counter = BasicCounter(EVX1AS,\n",
    "                                outfile=f'{k}mers_EVX1AS.npy',\n",
    "                                mean=mean_path,\n",
    "                                std=std_path,\n",
    "                                k=k)\n",
    "    lncs_counter = BasicCounter(lncRNAs,\n",
    "                                outfile=f'{k}mers_lncs.npy',\n",
    "                                mean=mean_path,\n",
    "                                std=std_path,\n",
    "                                k=k)\n",
    "    EVX1AS_counter.make_count_file(names=['EVX1AS'])\n",
    "    lncs_counter.make_count_file(names=names)\n",
    "  \n",
    "    # Find similarities\n",
    "    sim = pearson(EVX1AS_counter.counts,\n",
    "                  lncs_counter.counts,\n",
    "                  outfile=f'EVX1AS_vs_lncs_{k}mers.npy')\n",
    "    # Save labeled .csv file of similarities.\n",
    "    sim_df = pd.DataFrame(sim, ['EVX1AS'], names)\n",
    "    sim_df.to_csv(f'EVX1AS_vs_lncs_{k}mers.csv')\n",
    "    sim_df_transpose = sim_df.transpose()\n",
    "    sim_df_transpose = sim_df_transpose.sort_values(by=['EVX1AS'], ascending=False)\n",
    "    sim_df_t_head = sim_df_transpose.head(1000)\n",
    "    sim_df_t_head.to_csv(f'EVX1AS_vs_lncs_{k}mers_head.csv')"
   ]
  }
 ],
 "metadata": {
  "kernelspec": {
   "display_name": "Python 3",
   "language": "python",
   "name": "python3"
  },
  "language_info": {
   "codemirror_mode": {
    "name": "ipython",
    "version": 3
   },
   "file_extension": ".py",
   "mimetype": "text/x-python",
   "name": "python",
   "nbconvert_exporter": "python",
   "pygments_lexer": "ipython3",
   "version": "3.8.10"
  }
 },
 "nbformat": 4,
 "nbformat_minor": 4
}
